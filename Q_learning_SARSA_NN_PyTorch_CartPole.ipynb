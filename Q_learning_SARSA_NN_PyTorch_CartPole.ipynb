{
  "cells": [
    {
      "cell_type": "markdown",
      "metadata": {
        "id": "view-in-github",
        "colab_type": "text"
      },
      "source": [
        "<a href=\"https://colab.research.google.com/github/eduardoplima/rl-imd/blob/main/Q_learning_SARSA_NN_PyTorch_CartPole.ipynb\" target=\"_parent\"><img src=\"https://colab.research.google.com/assets/colab-badge.svg\" alt=\"Open In Colab\"/></a>"
      ]
    },
    {
      "cell_type": "markdown",
      "metadata": {
        "id": "Lx7CAo5vkC-y"
      },
      "source": [
        "# Q-learning and SARSA with neural network for Cart Pole (PyTorch)\n",
        "\n",
        "In this notebook, we will use Q-learning and SARSA with neural network to solve Cart Pole.\n",
        "\n",
        "\n",
        "Environment: (https://gymnasium.farama.org/environments/classic_control/cart_pole/)."
      ]
    },
    {
      "cell_type": "markdown",
      "metadata": {
        "id": "2S1Vn_gzkGn5"
      },
      "source": [
        "##Setup"
      ]
    },
    {
      "cell_type": "code",
      "execution_count": null,
      "metadata": {
        "id": "cz5219v1ktgM"
      },
      "outputs": [],
      "source": [
        "%%capture\n",
        "!pip install gymnasium\n",
        "!pip install numpy\n",
        "!pip install imageio imageio_ffmpeg\n",
        "!pip install pyvirtualdisplay\n",
        "!apt-get install -y xvfb\n",
        "!apt-get install -y python-opengl ffmpeg\n",
        "!pip install pytorch"
      ]
    },
    {
      "cell_type": "code",
      "execution_count": null,
      "metadata": {
        "id": "wnLetDTgj0zg"
      },
      "outputs": [],
      "source": [
        "import gymnasium as gym\n",
        "import matplotlib.pyplot as plt\n",
        "import numpy as np\n",
        "import seaborn as sns"
      ]
    },
    {
      "cell_type": "code",
      "source": [
        "# Importing PyTorch neural network (torch.nn) and optimizer (torch.optim)\n",
        "import torch\n",
        "import torch.nn as nn\n",
        "import torch.optim as optim"
      ],
      "metadata": {
        "id": "yy8Rh5EmpziE"
      },
      "execution_count": null,
      "outputs": []
    },
    {
      "cell_type": "markdown",
      "metadata": {
        "id": "9Lag6UPJ1No9"
      },
      "source": [
        "## Setup a Virtual Display\n",
        "To generate a replay video of agent and environment."
      ]
    },
    {
      "cell_type": "code",
      "execution_count": null,
      "metadata": {
        "colab": {
          "base_uri": "https://localhost:8080/"
        },
        "id": "f6mUiIp81RbZ",
        "outputId": "e0ddcac1-eb5d-48eb-8560-d1275313969e"
      },
      "outputs": [
        {
          "output_type": "execute_result",
          "data": {
            "text/plain": [
              "<pyvirtualdisplay.display.Display at 0x7d20f1056920>"
            ]
          },
          "metadata": {},
          "execution_count": 4
        }
      ],
      "source": [
        "# Virtual display\n",
        "from pyvirtualdisplay import Display\n",
        "virtual_display = Display(visible=0, size=(1400, 900))\n",
        "virtual_display.start()"
      ]
    },
    {
      "cell_type": "code",
      "execution_count": null,
      "metadata": {
        "colab": {
          "base_uri": "https://localhost:8080/"
        },
        "id": "2WxTXRb9f8Ar",
        "outputId": "5ff8bac2-fd8d-440e-f007-bf2d21c523f7"
      },
      "outputs": [
        {
          "output_type": "execute_result",
          "data": {
            "text/plain": [
              "EnvSpec(id='CartPole-v1', entry_point='gymnasium.envs.classic_control.cartpole:CartPoleEnv', reward_threshold=475.0, nondeterministic=False, max_episode_steps=500, order_enforce=True, disable_env_checker=False, kwargs={'render_mode': 'rgb_array'}, namespace=None, name='CartPole', version=1, additional_wrappers=(), vector_entry_point='gymnasium.envs.classic_control.cartpole:CartPoleVectorEnv')"
            ]
          },
          "metadata": {},
          "execution_count": 5
        }
      ],
      "source": [
        "# Let's start by creating the Cart Pole environment.\n",
        "env = gym.make(\"CartPole-v1\", render_mode=\"rgb_array\")\n",
        "env.spec"
      ]
    },
    {
      "cell_type": "markdown",
      "metadata": {
        "id": "2dglygU2kOeF"
      },
      "source": [
        "##Observing the environment"
      ]
    },
    {
      "cell_type": "code",
      "execution_count": null,
      "metadata": {
        "colab": {
          "base_uri": "https://localhost:8080/"
        },
        "id": "kZWDWGpGp6vu",
        "outputId": "0085410e-6bfd-46aa-9c02-255f62b1deb7"
      },
      "outputs": [
        {
          "output_type": "stream",
          "name": "stdout",
          "text": [
            "Actions: ['push cart to the left', 'push cart to the right']\n"
          ]
        }
      ],
      "source": [
        "# actions: push cart to the left=0, push cart to the right = 1\n",
        "actions = [\"push cart to the left\", \"push cart to the right\"]\n",
        "print (\"Actions:\", actions)"
      ]
    },
    {
      "cell_type": "code",
      "execution_count": null,
      "metadata": {
        "id": "9rCUhjXPHScr"
      },
      "outputs": [],
      "source": [
        "def plot_image(plot, render, size):\n",
        "  plot.figure(figsize=(14, 5))\n",
        "  plot.xticks(range(size))\n",
        "  plot.yticks(range(size))\n",
        "  plot.imshow(render, extent=[0, size, size, 0])\n",
        "  plot.show()"
      ]
    },
    {
      "cell_type": "code",
      "execution_count": null,
      "metadata": {
        "colab": {
          "base_uri": "https://localhost:8080/",
          "height": 451
        },
        "id": "-BmBabjqp-DY",
        "outputId": "bea39c61-8e69-488e-e268-324b2c10f232"
      },
      "outputs": [
        {
          "output_type": "display_data",
          "data": {
            "text/plain": [
              "<Figure size 1400x500 with 1 Axes>"
            ],
            "image/png": "[encoded data removed]"
          },
          "metadata": {}
        }
      ],
      "source": [
        "# This sets the initial state at S, our starting point\n",
        "# We can render the environment to see where we are on the cart pole environment\n",
        "env.reset()\n",
        "img = env.render()\n",
        "plot_image(plt,img,1)"
      ]
    },
    {
      "cell_type": "markdown",
      "metadata": {
        "id": "GZY-umrKkS7R"
      },
      "source": [
        "##Executing random actions"
      ]
    },
    {
      "cell_type": "code",
      "execution_count": null,
      "metadata": {
        "colab": {
          "base_uri": "https://localhost:8080/"
        },
        "id": "ne14c0tRkVSX",
        "outputId": "58c350ad-a9de-4d51-f50e-ce962255ba45"
      },
      "outputs": [
        {
          "output_type": "stream",
          "name": "stdout",
          "text": [
            "step number : action, position, reward, terminated, truncated, {info}\n",
            "step 1 : 1 , push cart to the right , [ 0.02335083  0.1872157   0.02531722 -0.3071972 ] , 1.0 , False , False , {}\n",
            "step 2 : 0 , push cart to the left , [ 0.02709514 -0.00825768  0.01917328 -0.00663862] , 1.0 , False , False , {}\n",
            "step 3 : 0 , push cart to the left , [ 0.02692999 -0.20364928  0.0190405   0.2920315 ] , 1.0 , False , False , {}\n",
            "step 4 : 1 , push cart to the right , [ 0.022857   -0.00880392  0.02488113  0.00541401] , 1.0 , False , False , {}\n",
            "step 5 : 0 , push cart to the left , [ 0.02268092 -0.2042737   0.02498941  0.30584222] , 1.0 , False , False , {}\n",
            "step 6 : 0 , push cart to the left , [ 0.01859545 -0.3997427   0.03110626  0.6063003 ] , 1.0 , False , False , {}\n",
            "step 7 : 0 , push cart to the left , [ 0.01060059 -0.5952855   0.04323226  0.9086163 ] , 1.0 , False , False , {}\n",
            "step 8 : 1 , push cart to the right , [-0.00130511 -0.4007745   0.06140459  0.6298289 ] , 1.0 , False , False , {}\n",
            "step 9 : 1 , push cart to the right , [-0.0093206  -0.20656076  0.07400116  0.35709885] , 1.0 , False , False , {}\n",
            "step 10 : 1 , push cart to the right , [-0.01345182 -0.01256461  0.08114314  0.08863754] , 1.0 , False , False , {}\n",
            "step 11 : 0 , push cart to the left , [-0.01370311 -0.20875025  0.08291589  0.40577763] , 1.0 , False , False , {}\n",
            "step 12 : 0 , push cart to the left , [-0.01787812 -0.40494412  0.09103145  0.72340673] , 1.0 , False , False , {}\n",
            "step 13 : 1 , push cart to the right , [-0.025977   -0.21119124  0.10549958  0.46070707] , 1.0 , False , False , {}\n",
            "step 14 : 0 , push cart to the left , [-0.03020082 -0.4076338   0.11471372  0.784692  ] , 1.0 , False , False , {}\n",
            "step 15 : 0 , push cart to the left , [-0.0383535  -0.6041294   0.13040756  1.1111501 ] , 1.0 , False , False , {}\n",
            "step 16 : 1 , push cart to the right , [-0.05043609 -0.41093895  0.15263057  0.86205626] , 1.0 , False , False , {}\n",
            "step 17 : 1 , push cart to the right , [-0.05865487 -0.21818788  0.16987169  0.6209903 ] , 1.0 , False , False , {}\n",
            "step 18 : 1 , push cart to the right , [-0.06301863 -0.02579428  0.1822915   0.38625613] , 1.0 , False , False , {}\n",
            "step 19 : 1 , push cart to the right , [-0.06353451  0.16633525  0.19001661  0.1561343 ] , 1.0 , False , False , {}\n",
            "step 20 : 0 , push cart to the left , [-0.06020781 -0.03092729  0.1931393   0.50223166] , 1.0 , False , False , {}\n"
          ]
        }
      ],
      "source": [
        "# Taking a step by selecting a random action[move left=0, move right = 1] from current state\n",
        "# next_observation: position on the environment\n",
        "# reward: What rewards did I receive?\n",
        "# is_terminal: did I end up in the goal state?\n",
        "\n",
        "print(\"step number : action, position, reward, terminated, truncated, {info}\")\n",
        "\n",
        "for i in range(20):\n",
        "    # sample a random action from all valid actions\n",
        "    action = env.action_space.sample()\n",
        "\n",
        "    state, reward, terminated, truncated, info = env.step(action)\n",
        "    is_terminal = terminated or truncated\n",
        "\n",
        "    print(\"step\", i+1, \":\", action, \",\", actions[action], \",\", state, \",\", reward, \",\", terminated, \",\", truncated, \",\", info)\n",
        "    if(is_terminal):\n",
        "        break"
      ]
    },
    {
      "cell_type": "code",
      "execution_count": null,
      "metadata": {
        "colab": {
          "base_uri": "https://localhost:8080/"
        },
        "id": "zVfSsVj25mmI",
        "outputId": "dd4dd6dd-029b-489d-a6a5-a75c80de5fe6"
      },
      "outputs": [
        {
          "output_type": "stream",
          "name": "stderr",
          "text": [
            "/usr/local/lib/python3.10/dist-packages/gym/wrappers/monitoring/video_recorder.py:101: DeprecationWarning: \u001b[33mWARN: <class 'gym.wrappers.monitoring.video_recorder.VideoRecorder'> is marked as deprecated and will be removed in the future.\u001b[0m\n",
            "  logger.deprecation(\n"
          ]
        },
        {
          "output_type": "stream",
          "name": "stdout",
          "text": [
            "step 40 : push cart to the left , [ 0.16301022  1.2116297  -0.2451747  -1.88591   ] , 1.0 , True , False , {}\n"
          ]
        }
      ],
      "source": [
        "from gym.wrappers.monitoring.video_recorder import VideoRecorder\n",
        "before_training = \"before_training.mp4\"\n",
        "video = VideoRecorder(env, before_training)\n",
        "\n",
        "# returns an initial observation\n",
        "state, info = env.reset()\n",
        "env.render()\n",
        "video.capture_frame()\n",
        "\n",
        "for i in range(100):\n",
        "    action = env.action_space.sample()\n",
        "\n",
        "    state, reward, terminated, truncated, info = env.step(action)\n",
        "    is_terminal = terminated or truncated\n",
        "\n",
        "    env.render()\n",
        "    video.capture_frame()\n",
        "\n",
        "    if(is_terminal):\n",
        "        print(\"step\", i+1, \":\", actions[action], \",\", state, \",\", reward, \",\", terminated, \",\", truncated, \",\", info)\n",
        "        break\n",
        "\n",
        "video.close()"
      ]
    },
    {
      "cell_type": "code",
      "execution_count": null,
      "metadata": {
        "id": "U5XhywPF5uHJ"
      },
      "outputs": [],
      "source": [
        "from base64 import b64encode\n",
        "def render_mp4(videopath: str) -> str:\n",
        "  \"\"\"\n",
        "  Gets a string containing a b4-encoded version of the MP4 video at the specified path.\n",
        "  \"\"\"\n",
        "  mp4 = open(videopath, 'rb').read()\n",
        "  base64_encoded_mp4 = b64encode(mp4).decode()\n",
        "  return f'<video width=400 controls><source src=\"data:video/mp4;' \\\n",
        "         f'base64,{base64_encoded_mp4}\" type=\"video/mp4\"></video>'"
      ]
    },
    {
      "cell_type": "code",
      "execution_count": null,
      "metadata": {
        "colab": {
          "base_uri": "https://localhost:8080/",
          "height": 287
        },
        "id": "vIv5J_ns5wdS",
        "outputId": "721d56f0-3891-41c6-8e6a-87cfad15d679"
      },
      "outputs": [
        {
          "output_type": "execute_result",
          "data": {
            "text/plain": [
              "<IPython.core.display.HTML object>"
            ],
            "text/html": [
              "<video width=400 controls><source src=\"data:video/mp4;base64,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\" type=\"video/mp4\"></video>"
            ]
          },
          "metadata": {},
          "execution_count": 12
        }
      ],
      "source": [
        "from IPython.display import HTML\n",
        "html = render_mp4(before_training)\n",
        "HTML(html)"
      ]
    },
    {
      "cell_type": "markdown",
      "metadata": {
        "id": "S9x_OBMfkYEZ"
      },
      "source": [
        "##Building an Q-learning agent (off-policy) or a SARSA agent (on-policy)\n",
        "\n",
        "![QL](https://i.stack.imgur.com/nQotE.png)"
      ]
    },
    {
      "cell_type": "markdown",
      "source": [
        "## Linear Neural Network\n",
        "\n",
        "A linear neural network to be used with Q-learning and SARSA algorithms. It is useful for environments where we are not receiving an image as observation.\n",
        "\n",
        "The input size of the network receives an input of the available environment states.\n",
        "\n",
        "The output of the network is the Q-value for each available action. So the output size is the shape of the actions state.\n",
        "\n",
        "The size of the hidden layers is arbitrary. So, it can be varied from one application to another and it is one of the parameters that are worth modifying to ensure greater efficiency in the network."
      ],
      "metadata": {
        "id": "ZbegYMg0qYAj"
      }
    },
    {
      "cell_type": "code",
      "source": [
        "class LinearNetwork(nn.Module):\n",
        "    \"\"\"\n",
        "    Linear neural network for Q-learning and SARSA\n",
        "    \"\"\"\n",
        "    def __init__(self, state_size, hidden_size, action_size):\n",
        "        super(LinearNetwork, self).__init__()\n",
        "\n",
        "        # These lines establish the feed-forward part of the neural network used to choose actions\n",
        "        # Input layer with (one unit for each state variable)\n",
        "        self.input_layer = nn.Linear(state_size, hidden_size)\n",
        "\n",
        "        # Hidden layer with a number of hidden neurons\n",
        "        self.hidden_layer = nn.Linear(hidden_size, hidden_size)\n",
        "\n",
        "        # Output layer (one unit for each action)\n",
        "        self.output_layer = nn.Linear(hidden_size, action_size)\n",
        "\n",
        "        print(\"Artificial neural network started with PyTorch\")\n",
        "        print(\"input =\", state_size, \", Hidden =\", hidden_size, \", output =\", action_size)\n",
        "\n",
        "    # Called with either one element to determine the action\n",
        "    # Returns tensor([[left0exp,right0exp]...]).\n",
        "    def forward(self, state):\n",
        "        # Passing the state through the input layer\n",
        "        x = self.input_layer(state)\n",
        "\n",
        "        # Passing the input layer output through the hidden layer\n",
        "        x = torch.relu(self.hidden_layer(x))\n",
        "\n",
        "        # Passing the hidden layer output through the output layer\n",
        "        return self.output_layer(x)"
      ],
      "metadata": {
        "id": "vn63tL-DqWjK"
      },
      "execution_count": null,
      "outputs": []
    },
    {
      "cell_type": "markdown",
      "source": [
        "Q-learning and SARSA Agent"
      ],
      "metadata": {
        "id": "qiEyjfYVqz4y"
      }
    },
    {
      "cell_type": "code",
      "source": [
        "class QLearningAgent:\n",
        "\n",
        "    def __init__(\n",
        "        self,\n",
        "        alpha_learning_rate,\n",
        "        gamma_discount_factor,\n",
        "        initial_epsilon,\n",
        "        epsilon_decay,\n",
        "        final_epsilon,\n",
        "        state_space,\n",
        "        hidden_size,\n",
        "        action_space,\n",
        "        device,\n",
        "        model,\n",
        "        optimizer,\n",
        "        criterion,\n",
        "        is_using_Sarsa\n",
        "    ):\n",
        "        \"\"\"Initialize a Reinforcement Learning agent with an empty dictionary\n",
        "        of state-action values (q_values), a learning rate and an epsilon.\n",
        "\n",
        "        Args:\n",
        "            alpha_learning_rate: The learning rate\n",
        "            initial_epsilon: The initial epsilon value\n",
        "            epsilon_decay: The decay for epsilon\n",
        "            final_epsilon: The final epsilon value\n",
        "            gamma_discount_factor: The discount factor for computing the Q-value\n",
        "            state_space: The state space\n",
        "            action_space: The action space\n",
        "            is_using_Sarsa: Sarsa or Q-learning method\n",
        "        \"\"\"\n",
        "        self.alpha_learning_rate = alpha_learning_rate\n",
        "        self.gamma_discount_factor = gamma_discount_factor\n",
        "        self.epsilon = initial_epsilon\n",
        "        self.epsilon_decay = epsilon_decay\n",
        "        self.final_epsilon = final_epsilon\n",
        "        self.state_space = state_space\n",
        "        self.hidden_size = hidden_size\n",
        "        self.action_space = action_space\n",
        "        self.device = device\n",
        "        self.model = model\n",
        "        self.optimizer = optimizer\n",
        "        self.criterion = criterion\n",
        "        self.is_using_Sarsa = is_using_Sarsa\n",
        "        self.training_error = []\n",
        "\n",
        "        if(self.is_using_Sarsa):\n",
        "            print(\"SARSA agent started\")\n",
        "        else:get\n",
        "            print(\"Q-learning agent started\")\n",
        "\n",
        "        # Set the seed\n",
        "        self.rng = np.random.default_rng(123)\n",
        "\n",
        "    def get_tensor(self, value):\n",
        "        return torch.tensor(value, device=self.device, dtype=torch.float32)\n",
        "\n",
        "    def eval_state(self, state):\n",
        "        with torch.no_grad():\n",
        "            state_tensor = self.get_tensor(state)\n",
        "            q_values = self.model(state_tensor)\n",
        "            return torch.argmax(q_values).item()\n",
        "\n",
        "    def choose_action(self, state):\n",
        "        \"\"\"\n",
        "        Returns the best action with probability (1 - epsilon)\n",
        "        otherwise a random action with probability epsilon to ensure exploration.\n",
        "        \"\"\"\n",
        "        # First we randomize a number\n",
        "        exploration_exploitation_tradeoff = self.rng.uniform(0, 1)\n",
        "\n",
        "        # Exploration\n",
        "        # with probability epsilon return a random action to explore the environment\n",
        "        if exploration_exploitation_tradeoff < self.epsilon:\n",
        "            return self.action_space.sample()\n",
        "\n",
        "        # Exploitation (taking the biggest Q-value for this state)\n",
        "        # with probability (1 - epsilon) act greedily (exploit)\n",
        "        else:\n",
        "            with torch.no_grad():\n",
        "                return self.eval_state(state)\n",
        "\n",
        "    def update(\n",
        "        self,\n",
        "        state: np.array,\n",
        "        action: int,\n",
        "        reward: float,\n",
        "        terminated: bool,\n",
        "        next_state: np.array,\n",
        "        next_action: int\n",
        "    ):\n",
        "        \"\"\"Updates the neural network weights.\"\"\"\n",
        "        # Train the network using target and the predicted q_network values\n",
        "        # Setting the model in training mode\n",
        "        self.model.train()\n",
        "\n",
        "        if terminated:\n",
        "            target = self.get_tensor(reward) # Convert reward to tensor\n",
        "\n",
        "        else:\n",
        "            # Eval next state\n",
        "            next_state_tensor = self.get_tensor(next_state) # Get one-hot encoded next state tensor\n",
        "\n",
        "            with torch.no_grad():\n",
        "                Q2 = self.model(next_state_tensor)\n",
        "\n",
        "                # Sarsa: Update Q(s,a):= Q(s,a) + alpha [R(s,a) + gamma * Q(s',a') - Q(s,a)]\n",
        "                if(self.is_using_Sarsa):\n",
        "                    target = reward + self.gamma_discount_factor * Q2[next_action].item() # Use next_action for Sarsa\n",
        "\n",
        "                # Q-learning: Update Q(s,a):= Q(s,a) + alpha [R(s,a) + gamma * max Q(s',a') - Q(s,a)]\n",
        "                else:\n",
        "                    target = reward + self.gamma_discount_factor * torch.max(Q2).item() # Use max Q-value for Q-learning\n",
        "\n",
        "            target = self.get_tensor(target) # Convert target to tensor\n",
        "\n",
        "        # Eval state\n",
        "        state_tensor = self.get_tensor(state) # Get one-hot encoded state tensor\n",
        "        Q1 = self.model(state_tensor) # Get the Q-value for the chosen action\n",
        "\n",
        "        # Computing the loss (error between the predicted Q-value and the actual Q-value)\n",
        "        temporal_difference_error = self.criterion(Q1[action], target)\n",
        "        self.training_error.append(temporal_difference_error.item())\n",
        "\n",
        "        # Reset accumulated gradients\n",
        "        self.optimizer.zero_grad()\n",
        "\n",
        "        # Performing backpropagation\n",
        "        temporal_difference_error.backward()\n",
        "\n",
        "        # Updating network parameters\n",
        "        self.optimizer.step()\n",
        "\n",
        "    def decay_epsilon(self):\n",
        "        self.epsilon = max(self.final_epsilon, self.epsilon - self.epsilon_decay)"
      ],
      "metadata": {
        "id": "R4lesK0eq3La"
      },
      "execution_count": null,
      "outputs": []
    },
    {
      "cell_type": "markdown",
      "metadata": {
        "id": "Um_DZdrjkfDl"
      },
      "source": [
        "## Hyperparameters"
      ]
    },
    {
      "cell_type": "code",
      "execution_count": null,
      "metadata": {
        "colab": {
          "base_uri": "https://localhost:8080/"
        },
        "id": "lhmnkq9_kjjE",
        "outputId": "b0b0efd8-e46d-4473-85a7-6a37948cf073"
      },
      "outputs": [
        {
          "output_type": "stream",
          "name": "stdout",
          "text": [
            "Artificial neural network started with PyTorch\n",
            "input = 4 , Hidden = 64 , output = 2\n",
            "Q-learning agent started\n"
          ]
        }
      ],
      "source": [
        "# hyperparameters\n",
        "alpha_learning_rate = 0.0003 # @param {type:\"number\"}\n",
        "nb_max_episodes = 2000 # @param {type:\"integer\"}\n",
        "start_epsilon = 0.5 # @param {type:\"number\"}\n",
        "final_epsilon = 0.1 # @param {type:\"number\"}\n",
        "epsilon_decay = (start_epsilon - final_epsilon) / nb_max_episodes  # reduce the exploration over time\n",
        "gamma_discount_factor = 0.99 # @param {type:\"number\"}\n",
        "is_using_Sarsa = False # @param {type:\"boolean\"}\n",
        "test_freq = 100 # @param {type:\"integer\"}\n",
        "total_steps = 0\n",
        "\n",
        "# Starting the artificial neural network\n",
        "# Check that there is a GPU avaiable\n",
        "device = torch.device(\"cuda\" if torch.cuda.is_available() else \"cpu\")\n",
        "\n",
        "hidden_size = 64 # @param {type:\"integer\"}\n",
        "\n",
        "# Input and output size based on the environment\n",
        "# These lines establish the feed-forward part of the netwotk used to choose actions\n",
        "model = LinearNetwork(env.observation_space.shape[0], hidden_size, env.action_space.n).to(device)\n",
        "\n",
        "# Initialize optimizer that can be SGD, Adam, RMSprop, etc.\n",
        "optimizer = optim.Adam(model.parameters(), lr=alpha_learning_rate)\n",
        "\n",
        "# Initialize loss function using mean squared error\n",
        "criterion = nn.MSELoss()\n",
        "\n",
        "agent = QLearningAgent(\n",
        "    alpha_learning_rate=alpha_learning_rate,\n",
        "    gamma_discount_factor=gamma_discount_factor,\n",
        "    initial_epsilon=start_epsilon,\n",
        "    epsilon_decay=epsilon_decay,\n",
        "    final_epsilon=final_epsilon,\n",
        "    state_space = env.observation_space,\n",
        "    hidden_size = hidden_size,\n",
        "    action_space = env.action_space,\n",
        "    device = device,\n",
        "    model = model,\n",
        "    optimizer = optimizer,\n",
        "    criterion = criterion,\n",
        "    is_using_Sarsa = is_using_Sarsa\n",
        ")"
      ]
    },
    {
      "cell_type": "markdown",
      "metadata": {
        "id": "fmpqKiqPQLfQ"
      },
      "source": [
        "### Test accurracy"
      ]
    },
    {
      "cell_type": "code",
      "execution_count": null,
      "metadata": {
        "id": "wsN2e3TrQMMh"
      },
      "outputs": [],
      "source": [
        "def test_accurracy(num_steps, num_episodes=100):\n",
        "    counter = 0\n",
        "    nb_success = 0.0\n",
        "\n",
        "    while counter < num_episodes:\n",
        "        is_terminal = False\n",
        "        state, info = env.reset()\n",
        "\n",
        "        for i in range(num_steps):\n",
        "            model.eval() # Putting the model into evaluation mode (without gradients)\n",
        "            action = agent.eval_state(state)\n",
        "            state, reward, terminated, truncated, info = env.step(action)\n",
        "            is_terminal = terminated or truncated\n",
        "            nb_success += reward\n",
        "\n",
        "            if(is_terminal):\n",
        "                break\n",
        "\n",
        "        counter += 1\n",
        "\n",
        "    return nb_success/counter"
      ]
    },
    {
      "cell_type": "code",
      "execution_count": null,
      "metadata": {
        "id": "3exftL1uQteL"
      },
      "outputs": [],
      "source": [
        "def record_trained_video(video_file, num_steps):\n",
        "    video = VideoRecorder(env, video_file)\n",
        "\n",
        "    # returns an initial observation\n",
        "    state, info = env.reset()\n",
        "    env.render()\n",
        "    video.capture_frame()\n",
        "\n",
        "    for i in range(num_steps):\n",
        "        model.eval() # Putting the model into evaluation mode (without gradients)\n",
        "        action = agent.eval_state(state)\n",
        "        state, reward, terminated, truncated, info = env.step(action)\n",
        "        is_terminal = terminated or truncated\n",
        "\n",
        "        env.render()\n",
        "        video.capture_frame()\n",
        "\n",
        "        if(is_terminal):\n",
        "            print(\"step\", i+1, \":\", actions[action], \",\", state, \",\", reward, \",\", terminated, \",\", truncated, \",\", info)\n",
        "            break\n",
        "\n",
        "    video.close()"
      ]
    },
    {
      "cell_type": "markdown",
      "metadata": {
        "id": "J5obxy4sknoE"
      },
      "source": [
        "## Playing and Training"
      ]
    },
    {
      "cell_type": "code",
      "execution_count": null,
      "metadata": {
        "colab": {
          "base_uri": "https://localhost:8080/"
        },
        "id": "XHTrrjXukqTs",
        "outputId": "20d6546a-61fc-4e3b-dd30-7bfb001eac7e"
      },
      "outputs": [
        {
          "output_type": "stream",
          "name": "stderr",
          "text": [
            "  5%|▌         | 107/2000 [00:03<01:05, 28.72it/s]"
          ]
        },
        {
          "output_type": "stream",
          "name": "stdout",
          "text": [
            "step: 1452, episode: 100, accuracy training: 14.52, accuracy test: 9.36, random move probability: 0.4800000000000022\n"
          ]
        },
        {
          "output_type": "stream",
          "name": "stderr",
          "text": [
            " 10%|█         | 200/2000 [00:08<01:41, 17.71it/s]"
          ]
        },
        {
          "output_type": "stream",
          "name": "stdout",
          "text": [
            "step: 3631, episode: 200, accuracy training: 21.79, accuracy test: 12.9, random move probability: 0.4600000000000044\n"
          ]
        },
        {
          "output_type": "stream",
          "name": "stderr",
          "text": [
            " 15%|█▌        | 302/2000 [00:13<01:49, 15.49it/s]"
          ]
        },
        {
          "output_type": "stream",
          "name": "stdout",
          "text": [
            "step: 5725, episode: 300, accuracy training: 20.94, accuracy test: 15.9, random move probability: 0.4400000000000066\n"
          ]
        },
        {
          "output_type": "stream",
          "name": "stderr",
          "text": [
            " 20%|██        | 401/2000 [00:19<04:50,  5.51it/s]"
          ]
        },
        {
          "output_type": "stream",
          "name": "stdout",
          "text": [
            "step: 8291, episode: 400, accuracy training: 25.66, accuracy test: 24.42, random move probability: 0.4200000000000088\n"
          ]
        },
        {
          "output_type": "stream",
          "name": "stderr",
          "text": [
            " 25%|██▌       | 500/2000 [00:26<01:41, 14.78it/s]"
          ]
        },
        {
          "output_type": "stream",
          "name": "stdout",
          "text": [
            "step: 11494, episode: 500, accuracy training: 32.03, accuracy test: 17.2, random move probability: 0.400000000000011\n"
          ]
        },
        {
          "output_type": "stream",
          "name": "stderr",
          "text": [
            " 30%|███       | 601/2000 [00:34<03:15,  7.15it/s]"
          ]
        },
        {
          "output_type": "stream",
          "name": "stdout",
          "text": [
            "step: 15297, episode: 600, accuracy training: 38.03, accuracy test: 34.48, random move probability: 0.3800000000000132\n"
          ]
        },
        {
          "output_type": "stream",
          "name": "stderr",
          "text": [
            " 35%|███▌      | 702/2000 [00:48<05:21,  4.04it/s]"
          ]
        },
        {
          "output_type": "stream",
          "name": "stdout",
          "text": [
            "step: 20835, episode: 700, accuracy training: 55.38, accuracy test: 118.32, random move probability: 0.3600000000000154\n"
          ]
        },
        {
          "output_type": "stream",
          "name": "stderr",
          "text": [
            " 40%|████      | 800/2000 [01:11<12:16,  1.63it/s]"
          ]
        },
        {
          "output_type": "stream",
          "name": "stdout",
          "text": [
            "step: 30819, episode: 800, accuracy training: 99.84, accuracy test: 121.4, random move probability: 0.3400000000000176\n"
          ]
        },
        {
          "output_type": "stream",
          "name": "stderr",
          "text": [
            " 45%|████▍     | 899/2000 [01:35<04:22,  4.19it/s]"
          ]
        },
        {
          "output_type": "stream",
          "name": "stdout",
          "text": [
            "step: 42077, episode: 900, accuracy training: 112.58, accuracy test: 174.44, random move probability: 0.3200000000000198\n"
          ]
        },
        {
          "output_type": "stream",
          "name": "stderr",
          "text": [
            " 50%|█████     | 1001/2000 [02:07<02:36,  6.39it/s]"
          ]
        },
        {
          "output_type": "stream",
          "name": "stdout",
          "text": [
            "step: 55808, episode: 1000, accuracy training: 137.31, accuracy test: 25.56, random move probability: 0.300000000000022\n"
          ]
        },
        {
          "output_type": "stream",
          "name": "stderr",
          "text": [
            " 55%|█████▌    | 1100/2000 [02:45<17:29,  1.17s/it]"
          ]
        },
        {
          "output_type": "stream",
          "name": "stdout",
          "text": [
            "step: 71233, episode: 1100, accuracy training: 154.25, accuracy test: 281.88, random move probability: 0.28000000000002423\n"
          ]
        },
        {
          "output_type": "stream",
          "name": "stderr",
          "text": [
            " 60%|██████    | 1200/2000 [03:19<15:51,  1.19s/it]"
          ]
        },
        {
          "output_type": "stream",
          "name": "stdout",
          "text": [
            "step: 86014, episode: 1200, accuracy training: 147.81, accuracy test: 141.84, random move probability: 0.26000000000002643\n"
          ]
        },
        {
          "output_type": "stream",
          "name": "stderr",
          "text": [
            " 65%|██████▌   | 1300/2000 [03:49<04:52,  2.39it/s]"
          ]
        },
        {
          "output_type": "stream",
          "name": "stdout",
          "text": [
            "step: 100082, episode: 1300, accuracy training: 140.68, accuracy test: 28.28, random move probability: 0.24000000000002725\n"
          ]
        },
        {
          "output_type": "stream",
          "name": "stderr",
          "text": [
            " 70%|███████   | 1402/2000 [04:26<04:53,  2.04it/s]"
          ]
        },
        {
          "output_type": "stream",
          "name": "stdout",
          "text": [
            "step: 116464, episode: 1400, accuracy training: 163.82, accuracy test: 119.26, random move probability: 0.22000000000002667\n"
          ]
        },
        {
          "output_type": "stream",
          "name": "stderr",
          "text": [
            " 75%|███████▌  | 1500/2000 [05:02<05:24,  1.54it/s]"
          ]
        },
        {
          "output_type": "stream",
          "name": "stdout",
          "text": [
            "step: 131305, episode: 1500, accuracy training: 148.41, accuracy test: 305.1, random move probability: 0.2000000000000261\n"
          ]
        },
        {
          "output_type": "stream",
          "name": "stderr",
          "text": [
            " 80%|████████  | 1601/2000 [05:36<02:36,  2.55it/s]"
          ]
        },
        {
          "output_type": "stream",
          "name": "stdout",
          "text": [
            "step: 146219, episode: 1600, accuracy training: 149.14, accuracy test: 58.72, random move probability: 0.18000000000002553\n"
          ]
        },
        {
          "output_type": "stream",
          "name": "stderr",
          "text": [
            " 85%|████████▌ | 1700/2000 [05:55<06:41,  1.34s/it]"
          ]
        },
        {
          "output_type": "stream",
          "name": "stdout",
          "text": [
            "step: 153525, episode: 1700, accuracy training: 73.06, accuracy test: 248.02, random move probability: 0.16000000000002496\n"
          ]
        },
        {
          "output_type": "stream",
          "name": "stderr",
          "text": [
            " 90%|█████████ | 1800/2000 [06:54<11:05,  3.33s/it]"
          ]
        },
        {
          "output_type": "stream",
          "name": "stdout",
          "text": [
            "step: 177044, episode: 1800, accuracy training: 235.19, accuracy test: 500.0, random move probability: 0.14000000000002438\n"
          ]
        },
        {
          "output_type": "stream",
          "name": "stderr",
          "text": [
            " 95%|█████████▌| 1900/2000 [08:03<02:37,  1.58s/it]"
          ]
        },
        {
          "output_type": "stream",
          "name": "stdout",
          "text": [
            "step: 206390, episode: 1900, accuracy training: 293.46, accuracy test: 358.1, random move probability: 0.12000000000002381\n"
          ]
        },
        {
          "output_type": "stream",
          "name": "stderr",
          "text": [
            "100%|██████████| 2000/2000 [09:29<00:00,  3.51it/s]"
          ]
        },
        {
          "output_type": "stream",
          "name": "stdout",
          "text": [
            "step: 242346, episode: 2000, accuracy training: 359.56, accuracy test: 500.0, random move probability: 0.10000000000002324\n"
          ]
        },
        {
          "output_type": "stream",
          "name": "stderr",
          "text": [
            "\n",
            "/usr/local/lib/python3.10/dist-packages/gym/wrappers/monitoring/video_recorder.py:101: DeprecationWarning: \u001b[33mWARN: <class 'gym.wrappers.monitoring.video_recorder.VideoRecorder'> is marked as deprecated and will be removed in the future.\u001b[0m\n",
            "  logger.deprecation(\n"
          ]
        },
        {
          "output_type": "stream",
          "name": "stdout",
          "text": [
            "step 500 : push cart to the right , [-1.3543876e+00 -2.7906233e-02 -8.1354531e-04 -9.4802685e-02] , 1.0 , False , True , {}\n"
          ]
        }
      ],
      "source": [
        "from tqdm import tqdm\n",
        "#Create lists to contain total rewards, steps and accurracy per episode\n",
        "accuracies = []\n",
        "mean_rewards = []\n",
        "rewards = []\n",
        "steps = []\n",
        "\n",
        "for episode_count in tqdm(range(nb_max_episodes)):\n",
        "    state, info = env.reset()\n",
        "    is_terminal = False\n",
        "    total_reward = 0\n",
        "    episode_step = 0\n",
        "\n",
        "    if(is_using_Sarsa): # Sarsa\n",
        "        # Choose an action by greedily (with epsilon chance of random action) from the Q-Network\n",
        "        action = agent.choose_action(state)\n",
        "\n",
        "    # The Q-Network training\n",
        "    while not is_terminal:\n",
        "        episode_step += 1\n",
        "\n",
        "        if(not is_using_Sarsa): # Q-learning\n",
        "            # Choose an action by greedily (with epsilon chance of random action) from the Q-Network\n",
        "            action = agent.choose_action(state)\n",
        "\n",
        "        # Play best or random move and get new state and reward from environment\n",
        "        next_state, reward, terminated, truncated, info = env.step(action)\n",
        "        is_terminal = terminated or truncated\n",
        "\n",
        "        # update the agent\n",
        "        if(not is_using_Sarsa): # Q-learning\n",
        "            agent.update(state, action, reward, terminated, next_state, None)\n",
        "        else: # Sarsa\n",
        "            next_action = agent.choose_action(next_state)\n",
        "            agent.update(state, action, reward, terminated, next_state, next_action)\n",
        "            action = next_action\n",
        "\n",
        "        # update the current observation\n",
        "        state = next_state\n",
        "        total_steps += 1\n",
        "        total_reward += reward\n",
        "\n",
        "    agent.decay_epsilon()\n",
        "\n",
        "    mean_rewards.append(total_reward)\n",
        "    if (episode_count+1) % test_freq == 0:\n",
        "        accur = test_accurracy(env.spec.max_episode_steps,50)\n",
        "        accuracies.append(accur)\n",
        "\n",
        "        print('step: %s, episode: %s, accuracy training: %s, accuracy test: %s, random move probability: %s' % (total_steps, episode_count+1, sum(mean_rewards)/test_freq, accur, agent.epsilon))\n",
        "        mean_rewards.clear()\n",
        "\n",
        "    rewards.append(total_reward)\n",
        "    steps.append(episode_step)\n",
        "\n",
        "after_training = \"after_training.mp4\"\n",
        "record_trained_video(after_training, env.spec.max_episode_steps)\n",
        "env.close()"
      ]
    },
    {
      "cell_type": "code",
      "execution_count": null,
      "metadata": {
        "colab": {
          "base_uri": "https://localhost:8080/",
          "height": 287
        },
        "id": "O5j_z1p4TnRs",
        "outputId": "8e4ce6a3-2135-4089-ac63-938c48f3a615"
      },
      "outputs": [
        {
          "output_type": "execute_result",
          "data": {
            "text/plain": [
              "<IPython.core.display.HTML object>"
            ],
            "text/html": [
              "<video width=400 controls><source src=\"data:video/mp4;base64,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\" type=\"video/mp4\"></video>"
            ]
          },
          "metadata": {},
          "execution_count": 30
        }
      ],
      "source": [
        "# You should get a video similar to the one below.\n",
        "html = render_mp4(after_training)\n",
        "HTML(html)"
      ]
    },
    {
      "cell_type": "markdown",
      "metadata": {
        "id": "dQkxkgFETvu9"
      },
      "source": [
        "### Metrics"
      ]
    },
    {
      "cell_type": "code",
      "execution_count": null,
      "metadata": {
        "colab": {
          "base_uri": "https://localhost:8080/",
          "height": 243
        },
        "id": "ZlmBrxH9TvNQ",
        "outputId": "d037a44e-3c0e-412a-95c5-8b27aaffb005"
      },
      "outputs": [
        {
          "output_type": "display_data",
          "data": {
            "text/plain": [
              "<Figure size 1800x500 with 4 Axes>"
            ],
            "image/png": "[encoded data removed]"
          },
          "metadata": {}
        }
      ],
      "source": [
        "rolling_length = 100\n",
        "fig, axs = plt.subplots(ncols=4, figsize=(18, 5))\n",
        "axs[0].set_title(\"Training Reward\")\n",
        "axs[0].set_xlabel('episode')\n",
        "axs[0].set_ylabel('reward')\n",
        "axs[0].bar(range(len(rewards)), rewards)\n",
        "\n",
        "axs[1].set_title(\"Test Reward\")\n",
        "axs[1].set_xlabel('episode (x 50)')\n",
        "axs[1].set_ylabel('accuracy')\n",
        "axs[1].plot(range(len(accuracies)), accuracies)\n",
        "\n",
        "axs[2].set_title(\"Episode Length\")\n",
        "axs[2].set_xlabel('episode')\n",
        "axs[2].set_ylabel('step')\n",
        "steps_moving_average = np.convolve(np.array(steps), np.ones(rolling_length), mode=\"same\") / rolling_length\n",
        "axs[2].plot(range(len(steps_moving_average)), steps_moving_average)\n",
        "\n",
        "axs[3].set_title(\"Training Error\")\n",
        "axs[3].set_xlabel('step')\n",
        "axs[3].set_ylabel('error')\n",
        "training_error_moving_average = np.convolve(np.array(agent.training_error), np.ones(rolling_length), mode=\"same\") / rolling_length\n",
        "axs[3].plot(range(len(training_error_moving_average)), training_error_moving_average)\n",
        "\n",
        "plt.tight_layout()\n",
        "plt.show()"
      ]
    }
  ],
  "metadata": {
    "accelerator": "GPU",
    "colab": {
      "provenance": [],
      "include_colab_link": true
    },
    "gpuClass": "standard",
    "kernelspec": {
      "display_name": "Python 3",
      "name": "python3"
    },
    "language_info": {
      "name": "python"
    }
  },
  "nbformat": 4,
  "nbformat_minor": 0
}