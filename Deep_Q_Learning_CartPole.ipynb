{
  "cells": [
    {
      "cell_type": "markdown",
      "metadata": {
        "id": "view-in-github",
        "colab_type": "text"
      },
      "source": [
        "<a href=\"https://colab.research.google.com/github/eduardoplima/rl-imd/blob/main/Deep_Q_Learning_CartPole.ipynb\" target=\"_parent\"><img src=\"https://colab.research.google.com/assets/colab-badge.svg\" alt=\"Open In Colab\"/></a>"
      ]
    },
    {
      "cell_type": "markdown",
      "metadata": {
        "id": "Lx7CAo5vkC-y"
      },
      "source": [
        "# Deep Q-Learning for Cart Pole (PyTorch)\n",
        "\n",
        "In this notebook, we will use Deep Q-Learning to solve Cart Pole.\n",
        "\n",
        "\n",
        "Environment: (https://gymnasium.farama.org/environments/classic_control/cart_pole/).\n",
        "\n",
        "Paper: (https://arxiv.org/abs/1312.5602)."
      ]
    },
    {
      "cell_type": "markdown",
      "metadata": {
        "id": "2S1Vn_gzkGn5"
      },
      "source": [
        "##Setup"
      ]
    },
    {
      "cell_type": "code",
      "execution_count": null,
      "metadata": {
        "id": "cz5219v1ktgM"
      },
      "outputs": [],
      "source": [
        "%%capture\n",
        "!pip install gymnasium\n",
        "!pip install numpy\n",
        "!pip install imageio imageio_ffmpeg\n",
        "!pip install pyvirtualdisplay\n",
        "!apt-get install -y xvfb\n",
        "!apt-get install -y python-opengl ffmpeg\n",
        "!pip install pytorch"
      ]
    },
    {
      "cell_type": "code",
      "execution_count": null,
      "metadata": {
        "id": "wnLetDTgj0zg"
      },
      "outputs": [],
      "source": [
        "import gymnasium as gym\n",
        "import matplotlib.pyplot as plt\n",
        "import numpy as np"
      ]
    },
    {
      "cell_type": "markdown",
      "metadata": {
        "id": "aM3WNLZdqpya"
      },
      "source": [
        "Importing PyTorch neural network (torch.nn) and optimizer (torch.optim)"
      ]
    },
    {
      "cell_type": "code",
      "execution_count": null,
      "metadata": {
        "id": "e5glzqSPppMY"
      },
      "outputs": [],
      "source": [
        "import torch\n",
        "import torch.nn as nn\n",
        "import torch.optim as optim"
      ]
    },
    {
      "cell_type": "markdown",
      "metadata": {
        "id": "9Lag6UPJ1No9"
      },
      "source": [
        "## Setup a Virtual Display\n",
        "To generate a replay video of agent and environment."
      ]
    },
    {
      "cell_type": "code",
      "execution_count": null,
      "metadata": {
        "colab": {
          "base_uri": "https://localhost:8080/"
        },
        "id": "f6mUiIp81RbZ",
        "outputId": "ed14dc38-8626-4f81-9708-d239071fe75b"
      },
      "outputs": [
        {
          "output_type": "execute_result",
          "data": {
            "text/plain": [
              "<pyvirtualdisplay.display.Display at 0x7c1f3ecff850>"
            ]
          },
          "metadata": {},
          "execution_count": 5
        }
      ],
      "source": [
        "# Virtual display\n",
        "from pyvirtualdisplay import Display\n",
        "virtual_display = Display(visible=0, size=(1400, 900))\n",
        "virtual_display.start()"
      ]
    },
    {
      "cell_type": "code",
      "execution_count": null,
      "metadata": {
        "colab": {
          "base_uri": "https://localhost:8080/"
        },
        "id": "2WxTXRb9f8Ar",
        "outputId": "5778abbb-a71c-48df-ab6e-52c64f538c59"
      },
      "outputs": [
        {
          "output_type": "execute_result",
          "data": {
            "text/plain": [
              "EnvSpec(id='CartPole-v1', entry_point='gymnasium.envs.classic_control.cartpole:CartPoleEnv', reward_threshold=475.0, nondeterministic=False, max_episode_steps=500, order_enforce=True, disable_env_checker=False, kwargs={'render_mode': 'rgb_array'}, namespace=None, name='CartPole', version=1, additional_wrappers=(), vector_entry_point='gymnasium.envs.classic_control.cartpole:CartPoleVectorEnv')"
            ]
          },
          "metadata": {},
          "execution_count": 6
        }
      ],
      "source": [
        "# Let's start by creating the Cart Pole environment.\n",
        "env = gym.make(\"CartPole-v1\", render_mode=\"rgb_array\")\n",
        "env.spec"
      ]
    },
    {
      "cell_type": "markdown",
      "metadata": {
        "id": "2dglygU2kOeF"
      },
      "source": [
        "##Observing the environment"
      ]
    },
    {
      "cell_type": "code",
      "execution_count": null,
      "metadata": {
        "colab": {
          "base_uri": "https://localhost:8080/"
        },
        "id": "kZWDWGpGp6vu",
        "outputId": "074df08d-bce8-49b7-8854-fcbcbeeff577"
      },
      "outputs": [
        {
          "output_type": "stream",
          "name": "stdout",
          "text": [
            "Actions: ['push cart to the left', 'push cart to the right']\n"
          ]
        }
      ],
      "source": [
        "# actions: push cart to the left=0, push cart to the right = 1\n",
        "actions = [\"push cart to the left\", \"push cart to the right\"]\n",
        "print (\"Actions:\", actions)"
      ]
    },
    {
      "cell_type": "code",
      "execution_count": null,
      "metadata": {
        "id": "9rCUhjXPHScr"
      },
      "outputs": [],
      "source": [
        "def plot_image(plot, render, size):\n",
        "  plot.figure(figsize=(14, 5))\n",
        "  plot.xticks(range(size))\n",
        "  plot.yticks(range(size))\n",
        "  plot.imshow(render, extent=[0, size, size, 0])\n",
        "  plot.show()"
      ]
    },
    {
      "cell_type": "code",
      "execution_count": null,
      "metadata": {
        "colab": {
          "base_uri": "https://localhost:8080/",
          "height": 451
        },
        "id": "-BmBabjqp-DY",
        "outputId": "a0dd75e6-6f23-4ae1-84db-044d2546a687"
      },
      "outputs": [
        {
          "output_type": "display_data",
          "data": {
            "text/plain": [
              "<Figure size 1400x500 with 1 Axes>"
            ],
            "image/png": "[encoded data removed]"
          },
          "metadata": {}
        }
      ],
      "source": [
        "# This sets the initial state at S, our starting point\n",
        "# We can render the environment to see where we are on the cartpole gridworld\n",
        "env.reset()\n",
        "img = env.render()\n",
        "plot_image(plt,img,1)"
      ]
    },
    {
      "cell_type": "markdown",
      "metadata": {
        "id": "GZY-umrKkS7R"
      },
      "source": [
        "##Executing random actions"
      ]
    },
    {
      "cell_type": "code",
      "execution_count": null,
      "metadata": {
        "colab": {
          "base_uri": "https://localhost:8080/"
        },
        "id": "ne14c0tRkVSX",
        "outputId": "d3532a8e-b53f-4316-f8dd-d21df74be39f"
      },
      "outputs": [
        {
          "output_type": "stream",
          "name": "stdout",
          "text": [
            "step number: [x cart position, x cart velocity, pole angle (rad), pole angular velocity], reward, terminated, truncated, {info}\n",
            "step 1 : 0 , push cart to the left , [-0.01071967 -0.22258323  0.04168775  0.32024968] , 1.0 , False , False , {}\n",
            "step 2 : 1 , push cart to the right , [-0.01517134 -0.028079    0.04809274  0.04099947] , 1.0 , False , False , {}\n",
            "step 3 : 0 , push cart to the left , [-0.01573292 -0.22385642  0.04891273  0.34845987] , 1.0 , False , False , {}\n",
            "step 4 : 1 , push cart to the right , [-0.02021005 -0.02946304  0.05588193  0.07159316] , 1.0 , False , False , {}\n",
            "step 5 : 0 , push cart to the left , [-0.02079931 -0.22533977  0.05731379  0.38137034] , 1.0 , False , False , {}\n",
            "step 6 : 1 , push cart to the right , [-0.0253061  -0.03107649  0.0649412   0.10729492] , 1.0 , False , False , {}\n",
            "step 7 : 1 , push cart to the right , [-0.02592763  0.16305763  0.0670871  -0.16421314] , 1.0 , False , False , {}\n",
            "step 8 : 0 , push cart to the left , [-0.02266648 -0.03295735  0.06380284  0.14885674] , 1.0 , False , False , {}\n",
            "step 9 : 0 , push cart to the left , [-0.02332563 -0.22893217  0.06677997  0.46096617] , 1.0 , False , False , {}\n",
            "step 10 : 0 , push cart to the left , [-0.02790427 -0.4249313   0.07599929  0.7739283 ] , 1.0 , False , False , {}\n",
            "step 11 : 1 , push cart to the right , [-0.0364029  -0.23093256  0.09147786  0.5060924 ] , 1.0 , False , False , {}\n",
            "step 12 : 0 , push cart to the left , [-0.04102155 -0.42721647  0.10159971  0.8261442 ] , 1.0 , False , False , {}\n",
            "step 13 : 1 , push cart to the right , [-0.04956588 -0.23361978  0.11812259  0.56706566] , 1.0 , False , False , {}\n",
            "step 14 : 1 , push cart to the right , [-0.05423827 -0.0403356   0.12946391  0.31380707] , 1.0 , False , False , {}\n",
            "step 15 : 0 , push cart to the left , [-0.05504498 -0.23704128  0.13574004  0.64435244] , 1.0 , False , False , {}\n",
            "step 16 : 1 , push cart to the right , [-0.05978581 -0.044046    0.1486271   0.39730757] , 1.0 , False , False , {}\n",
            "step 17 : 1 , push cart to the right , [-0.06066673  0.14868924  0.15657325  0.15492767] , 1.0 , False , False , {}\n",
            "step 18 : 0 , push cart to the left , [-0.05769295 -0.04828757  0.1596718   0.49262327] , 1.0 , False , False , {}\n",
            "step 19 : 0 , push cart to the left , [-0.0586587  -0.24525875  0.16952427  0.83106595] , 1.0 , False , False , {}\n",
            "step 20 : 0 , push cart to the left , [-0.06356387 -0.44224167  0.18614559  1.1719065 ] , 1.0 , False , False , {}\n"
          ]
        }
      ],
      "source": [
        "# Taking a step by selecting a random action[move left=0, move down = 1, move right = 2, move up = 3] from current state\n",
        "# next_observation: position on the grid\n",
        "# reward: What rewards did I receive?\n",
        "# is_terminal: did I end up in the goal state?\n",
        "\n",
        "print(\"step number: [x cart position, x cart velocity, pole angle (rad), pole angular velocity], reward, terminated, truncated, {info}\")\n",
        "\n",
        "for i in range(20):\n",
        "    # sample a random action from all valid actions\n",
        "    action = env.action_space.sample()\n",
        "\n",
        "    state, reward, terminated, truncated, info = env.step(action)\n",
        "    is_terminal = terminated or truncated\n",
        "\n",
        "    print(\"step\", i+1, \":\", action, \",\", actions[action], \",\", state, \",\", reward, \",\", terminated, \",\", truncated, \",\", info)\n",
        "    if(is_terminal):\n",
        "        break"
      ]
    },
    {
      "cell_type": "code",
      "execution_count": null,
      "metadata": {
        "colab": {
          "base_uri": "https://localhost:8080/"
        },
        "id": "zVfSsVj25mmI",
        "outputId": "4ab265f9-73c6-41e2-9570-9b1dad0f6cc8"
      },
      "outputs": [
        {
          "output_type": "stream",
          "name": "stderr",
          "text": [
            "/usr/local/lib/python3.10/dist-packages/gym/wrappers/monitoring/video_recorder.py:101: DeprecationWarning: \u001b[33mWARN: <class 'gym.wrappers.monitoring.video_recorder.VideoRecorder'> is marked as deprecated and will be removed in the future.\u001b[0m\n",
            "  logger.deprecation(\n"
          ]
        },
        {
          "output_type": "stream",
          "name": "stdout",
          "text": [
            "step 29 : push cart to the right , [-0.16985989 -0.6128782   0.22731633  1.1611004 ] , 1.0 , True , False , {}\n"
          ]
        }
      ],
      "source": [
        "from gym.wrappers.monitoring.video_recorder import VideoRecorder\n",
        "before_training = \"before_training.mp4\"\n",
        "video = VideoRecorder(env, before_training)\n",
        "\n",
        "# returns an initial observation\n",
        "state, info = env.reset()\n",
        "env.render()\n",
        "video.capture_frame()\n",
        "\n",
        "for i in range(100):\n",
        "    action = env.action_space.sample()\n",
        "\n",
        "    state, reward, terminated, truncated, info = env.step(action)\n",
        "    is_terminal = terminated or truncated\n",
        "\n",
        "    env.render()\n",
        "    video.capture_frame()\n",
        "\n",
        "    if(is_terminal):\n",
        "        print(\"step\", i+1, \":\", actions[action], \",\", state, \",\", reward, \",\", terminated, \",\", truncated, \",\", info)\n",
        "        break\n",
        "\n",
        "video.close()"
      ]
    },
    {
      "cell_type": "code",
      "execution_count": null,
      "metadata": {
        "id": "U5XhywPF5uHJ"
      },
      "outputs": [],
      "source": [
        "from base64 import b64encode\n",
        "def render_mp4(videopath: str) -> str:\n",
        "  \"\"\"\n",
        "  Gets a string containing a b4-encoded version of the MP4 video at the specified path.\n",
        "  \"\"\"\n",
        "  mp4 = open(videopath, 'rb').read()\n",
        "  base64_encoded_mp4 = b64encode(mp4).decode()\n",
        "  return f'<video width=400 controls><source src=\"data:video/mp4;' \\\n",
        "         f'base64,{base64_encoded_mp4}\" type=\"video/mp4\"></video>'"
      ]
    },
    {
      "cell_type": "code",
      "execution_count": null,
      "metadata": {
        "colab": {
          "base_uri": "https://localhost:8080/",
          "height": 288
        },
        "id": "vIv5J_ns5wdS",
        "outputId": "f7daf3e3-fd09-4a98-8322-35e447ccbdef"
      },
      "outputs": [
        {
          "output_type": "execute_result",
          "data": {
            "text/plain": [
              "<IPython.core.display.HTML object>"
            ],
            "text/html": [
              "<video width=400 controls><source src=\"data:video/mp4;base64,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\" type=\"video/mp4\"></video>"
            ]
          },
          "metadata": {},
          "execution_count": 13
        }
      ],
      "source": [
        "from IPython.display import HTML\n",
        "html = render_mp4(before_training)\n",
        "HTML(html)"
      ]
    },
    {
      "cell_type": "markdown",
      "metadata": {
        "id": "S9x_OBMfkYEZ"
      },
      "source": [
        "##Building a Deep Q-learning agent (off-policy)\n",
        "\n",
        "![alt_text](https://drive.google.com/uc?id=1zH2nQKEgT--Mm2-8zrepEue0I2aggWhk)"
      ]
    },
    {
      "cell_type": "markdown",
      "metadata": {
        "id": "51xpDf_yqRhy"
      },
      "source": [
        "##Experience Replay Buffer\n",
        "\n",
        "We will use **Experience Replay** in order to store the agent's experiences in the form $(s_t, a_t, r_t, s_{t+1})$:\n",
        "- **state** $s_t$ in which the agent was in\n",
        "- **action** $a_t$ the agent selected in that state\n",
        "- **reward** $r_t$ received for taking the action in the state\n",
        "- **next state** $s_{t+1}$ that the agent arrived to after action\n",
        "\n",
        "After collecting a number **N** of these tuples $(s_t, a_t, r_t, s_{t+1})$, we randomly pass the data to train network."
      ]
    },
    {
      "cell_type": "code",
      "execution_count": null,
      "metadata": {
        "id": "TqjHKFbT8RWc"
      },
      "outputs": [],
      "source": [
        "class ReplayBuffer:\n",
        "    def __init__(self, max_length, observation_space_n):\n",
        "\n",
        "        self.index, self.size, self.max_length = 0, 0, max_length\n",
        "\n",
        "        self.states = np.zeros((max_length, observation_space_n), dtype=np.float32)\n",
        "        self.actions = np.zeros((max_length), dtype=np.uint8)\n",
        "        self.rewards = np.zeros((max_length), dtype=np.float32)\n",
        "        self.next_states = np.zeros((max_length, observation_space_n), dtype=np.float32)\n",
        "        self.dones = np.zeros((max_length), dtype=np.uint8)\n",
        "\n",
        "    def __len__(self):\n",
        "        return self.size\n",
        "\n",
        "    def update(self, state, action, reward, next_state, is_terminal):\n",
        "        # Update the Replay Buffer\n",
        "        self.states[self.index] = state\n",
        "        self.actions[self.index] = action\n",
        "        self.rewards[self.index] = reward\n",
        "        self.next_states[self.index] = next_state\n",
        "        self.dones[self.index] = is_terminal\n",
        "\n",
        "        self.index = (self.index + 1) % self.max_length\n",
        "        if self.size < self.max_length:\n",
        "            self.size += 1\n",
        "\n",
        "    def sample(self, batch_size):\n",
        "        # Pick indexes randomly from the Replay Buffer\n",
        "        idxs = np.random.randint(0, self.size, size=batch_size)\n",
        "\n",
        "        return (self.states[idxs], self.actions[idxs], self.rewards[idxs], self.next_states[idxs], self.dones[idxs])"
      ]
    },
    {
      "cell_type": "markdown",
      "metadata": {
        "id": "OKcpd0O4484_"
      },
      "source": [
        "## Linear Neural Network\n",
        "\n",
        "A linear neural network to be used with Deep Q-learning algoritmh. It is useful for environments where we are not receiving an image as observation.\n",
        "\n",
        "The input size of the network receives an input of the available environment states.\n",
        "\n",
        "The output of the network is the Q-value for each available action. So the output size is the shape of the actions state.\n",
        "\n",
        "The size of the hidden layers is arbitrary. So, it can be varied from one application to another and it is one of the parameters that are worth modifying to ensure greater efficiency in the network."
      ]
    },
    {
      "cell_type": "code",
      "execution_count": null,
      "metadata": {
        "id": "aBRXg5giz91U"
      },
      "outputs": [],
      "source": [
        "class LinearNetwork(nn.Module):\n",
        "    \"\"\"\n",
        "    Linear neural network for Q-learning and SARSA\n",
        "    \"\"\"\n",
        "    def __init__(self, state_size, hidden_size, action_size):\n",
        "        super(LinearNetwork, self).__init__()\n",
        "\n",
        "        # These lines establish the feed-forward part of the neural network used to choose actions\n",
        "        # Input layer with (one unit for each state variable)\n",
        "        self.input_layer = nn.Linear(state_size, hidden_size)\n",
        "\n",
        "        # Hidden layer with a number of hidden neurons\n",
        "        self.hidden_layer = nn.Linear(hidden_size, hidden_size)\n",
        "\n",
        "        # Output layer (one unit for each action)\n",
        "        self.output_layer = nn.Linear(hidden_size, action_size)\n",
        "\n",
        "        print(\"Artificial neural network started with PyTorch\")\n",
        "        print(\"input =\", state_size, \", Hidden =\", hidden_size, \", output =\", action_size)\n",
        "\n",
        "    # Called with either one element to determine the action\n",
        "    # Returns tensor([[left0exp,right0exp]...]).\n",
        "    def forward(self, state):\n",
        "        # Passing the state through the input layer\n",
        "        x = self.input_layer(state)\n",
        "\n",
        "        # Passing the input layer output through the hidden layer\n",
        "        x = torch.relu(self.hidden_layer(x))\n",
        "\n",
        "        # Passing the hidden layer output through the output layer\n",
        "        return self.output_layer(x)"
      ]
    },
    {
      "cell_type": "markdown",
      "metadata": {
        "id": "N9xkS2Gp5_sA"
      },
      "source": [
        "## Deep Q-learning Agent"
      ]
    },
    {
      "cell_type": "code",
      "execution_count": null,
      "metadata": {
        "id": "8LN4uUGWkaKL"
      },
      "outputs": [],
      "source": [
        "class DeepQLearningAgent:\n",
        "\n",
        "    def __init__(\n",
        "        self,\n",
        "        alpha_learning_rate,\n",
        "        gamma_discount_factor,\n",
        "        initial_epsilon,\n",
        "        epsilon_decay,\n",
        "        final_epsilon,\n",
        "        state_space,\n",
        "        hidden_size,\n",
        "        action_space,\n",
        "        device,\n",
        "        model,\n",
        "        optimizer,\n",
        "        criterion,\n",
        "        batch_size,\n",
        "        max_memory\n",
        "    ):\n",
        "        \"\"\"Initialize a Reinforcement Learning agent with an empty dictionary\n",
        "        of state-action values (q_values), a learning rate and an epsilon.\n",
        "\n",
        "        Args:\n",
        "            alpha_learning_rate: The learning rate\n",
        "            initial_epsilon: The initial epsilon value\n",
        "            epsilon_decay: The decay for epsilon\n",
        "            final_epsilon: The final epsilon value\n",
        "            gamma_discount_factor: The discount factor for computing the Q-value\n",
        "            state_space: The state space\n",
        "            action_space: The action space\n",
        "            batch_size: The sample size for batch\n",
        "            max_memory: The max number of iterations to be stored in memory buffer\n",
        "        \"\"\"\n",
        "        self.alpha_learning_rate = alpha_learning_rate\n",
        "        self.gamma_discount_factor = gamma_discount_factor\n",
        "        self.epsilon = initial_epsilon\n",
        "        self.epsilon_decay = epsilon_decay\n",
        "        self.final_epsilon = final_epsilon\n",
        "        self.state_space = state_space\n",
        "        self.hidden_size = hidden_size\n",
        "        self.action_space = action_space\n",
        "        self.device = device\n",
        "        self.model = model\n",
        "        self.optimizer = optimizer\n",
        "        self.criterion = criterion\n",
        "        self.batch_size = batch_size\n",
        "        self.max_memory = max_memory\n",
        "        self.training_error = []\n",
        "\n",
        "        # Set the seed\n",
        "        self.rng = np.random.default_rng(123)\n",
        "\n",
        "        # Initialize experience replay buffer\n",
        "        self.memory = ReplayBuffer(self.max_memory, self.state_space.shape[0])\n",
        "\n",
        "        print(\"Deep Q-learning agent started with PyTorch\")\n",
        "\n",
        "    def eval_state(self, state):\n",
        "        with torch.no_grad():\n",
        "            state_tensor = torch.tensor(state, device=self.device, dtype=torch.float32)\n",
        "            q_values = self.model(state_tensor)\n",
        "            return torch.argmax(q_values).item()\n",
        "\n",
        "    def choose_action(self, state):\n",
        "        \"\"\"\n",
        "        Returns the best action with probability (1 - epsilon)\n",
        "        otherwise a random action with probability epsilon to ensure exploration.\n",
        "        \"\"\"\n",
        "        # First we randomize a number\n",
        "        exploration_exploitation_tradeoff = self.rng.uniform(0, 1)\n",
        "\n",
        "        # Exploration\n",
        "        # with probability epsilon return a random action to explore the environment\n",
        "        if exploration_exploitation_tradeoff < self.epsilon:\n",
        "            return self.action_space.sample()\n",
        "\n",
        "        # Exploitation (taking the biggest Q-value for this state)\n",
        "        # with probability (1 - epsilon) act greedily (exploit)\n",
        "        else:\n",
        "            with torch.no_grad():\n",
        "                return self.eval_state(state)\n",
        "\n",
        "    def remember(self, state, action, reward, next_state, is_terminal):\n",
        "        self.memory.update(state, action, reward, next_state, is_terminal)\n",
        "\n",
        "    def update(self):\n",
        "        # If we have less experience than batch size, we don't start training\n",
        "        if self.batch_size * 10 > self.memory.size:\n",
        "            return\n",
        "\n",
        "        # A sample of the training experiences\n",
        "        (states, actions, rewards, next_states, dones) = self.memory.sample(self.batch_size)\n",
        "\n",
        "        # Turning the experiences into tensors\n",
        "        states = torch.as_tensor(states).to(self.device)\n",
        "        actions = torch.as_tensor(actions).to(self.device).unsqueeze(-1)\n",
        "        rewards = torch.as_tensor(rewards).to(self.device).unsqueeze(-1)\n",
        "        next_states = torch.as_tensor(next_states).to(self.device)\n",
        "        dones = torch.as_tensor(dones).to(self.device).unsqueeze(-1)\n",
        "\n",
        "        \"\"\"Updates the neural network weights.\"\"\"\n",
        "        # Train the network using target and the predicted q_network values\n",
        "        # Setting the model in training mode\n",
        "        self.model.train()\n",
        "\n",
        "        # Eval state\n",
        "        Q1 = self.model(states).gather(-1, actions.long())\n",
        "\n",
        "        # Eval next states\n",
        "        with torch.no_grad():\n",
        "            Q2 = self.model(next_states).max(dim=-1, keepdim=True)[0]\n",
        "            target = (rewards + (1 - dones) * self.gamma_discount_factor * Q2).to(self.device)\n",
        "\n",
        "        # Computing the loss (error between the predicted Q-value and the actual Q-value)\n",
        "        temporal_difference_error = self.criterion(Q1, target)\n",
        "        self.training_error.append(temporal_difference_error.item())\n",
        "\n",
        "        # Reset accumulated gradients\n",
        "        self.optimizer.zero_grad()\n",
        "\n",
        "        # Performing backpropagation\n",
        "        temporal_difference_error.backward()\n",
        "\n",
        "        # Updating network parameters\n",
        "        self.optimizer.step()\n",
        "\n",
        "    def decay_epsilon(self):\n",
        "        self.epsilon = max(self.final_epsilon, self.epsilon - epsilon_decay)"
      ]
    },
    {
      "cell_type": "markdown",
      "metadata": {
        "id": "Um_DZdrjkfDl"
      },
      "source": [
        "## Setting hyperparameters and initializing an agent"
      ]
    },
    {
      "cell_type": "code",
      "execution_count": null,
      "metadata": {
        "colab": {
          "base_uri": "https://localhost:8080/"
        },
        "id": "lhmnkq9_kjjE",
        "outputId": "15b8fa16-e098-44ef-deb7-865f5530b195"
      },
      "outputs": [
        {
          "output_type": "stream",
          "name": "stdout",
          "text": [
            "Artificial neural network started with PyTorch\n",
            "input = 4 , Hidden = 64 , output = 2\n",
            "Deep Q-learning agent started with PyTorch\n"
          ]
        }
      ],
      "source": [
        "alpha_learning_rate = 1e-4 # @param {type:\"number\"}\n",
        "nb_max_episodes = 400 # @param {type:\"integer\"}\n",
        "start_epsilon = 1.0 # @param {type:\"number\"}\n",
        "final_epsilon = 0.1 # @param {type:\"number\"}\n",
        "epsilon_decay = (start_epsilon - final_epsilon) / nb_max_episodes  # reduce the exploration over time\n",
        "gamma_discount_factor = 0.99 # @param {type:\"number\"}\n",
        "test_freq = 50 # @param {type:\"integer\"}\n",
        "total_steps = 0 # @param {type:\"integer\"}\n",
        "\n",
        "batch_size = 64 # @param {type:\"integer\"}\n",
        "max_memory = 10000 # @param {type:\"integer\"}\n",
        "\n",
        "# Starting the artificial neural network\n",
        "# Check that there is a GPU avaiable\n",
        "device = torch.device(\"cuda\" if torch.cuda.is_available() else \"cpu\")\n",
        "\n",
        "hidden_size = 64 # @param {type:\"integer\"}\n",
        "\n",
        "# Input and output size based on the environment\n",
        "# These lines establish the feed-forward part of the netwotk used to choose actions\n",
        "model = LinearNetwork(env.observation_space.shape[0], hidden_size, env.action_space.n).to(device)\n",
        "\n",
        "# Initialize optimizer that can be SGD, Adam, RMSprop, etc.\n",
        "optimizer = optim.Adam(model.parameters(), lr=alpha_learning_rate)\n",
        "\n",
        "# Initialize loss function using mean squared error\n",
        "criterion = nn.MSELoss()\n",
        "\n",
        "agent = DeepQLearningAgent(\n",
        "    alpha_learning_rate=alpha_learning_rate,\n",
        "    gamma_discount_factor=gamma_discount_factor,\n",
        "    initial_epsilon=start_epsilon,\n",
        "    epsilon_decay=epsilon_decay,\n",
        "    final_epsilon=final_epsilon,\n",
        "    state_space = env.observation_space,\n",
        "    hidden_size = hidden_size,\n",
        "    action_space = env.action_space,\n",
        "    device = device,\n",
        "    model = model,\n",
        "    optimizer = optimizer,\n",
        "    criterion = criterion,\n",
        "    batch_size=batch_size,\n",
        "    max_memory=max_memory\n",
        ")"
      ]
    },
    {
      "cell_type": "markdown",
      "metadata": {
        "id": "fmpqKiqPQLfQ"
      },
      "source": [
        "### Test accurracy"
      ]
    },
    {
      "cell_type": "code",
      "execution_count": null,
      "metadata": {
        "id": "wsN2e3TrQMMh"
      },
      "outputs": [],
      "source": [
        "def test_accurracy(num_steps, num_episodes=100):\n",
        "    counter = 0\n",
        "    nb_success = 0.0\n",
        "\n",
        "    while counter < num_episodes:\n",
        "        is_terminal = False\n",
        "        state, info = env.reset()\n",
        "\n",
        "        for i in range(num_steps):\n",
        "            action = agent.eval_state(state)\n",
        "            state, reward, terminated, truncated, info = env.step(action)\n",
        "            is_terminal = terminated or truncated\n",
        "            nb_success += reward\n",
        "\n",
        "            if(is_terminal):\n",
        "                break\n",
        "\n",
        "        counter += 1\n",
        "\n",
        "    return nb_success/num_episodes"
      ]
    },
    {
      "cell_type": "code",
      "execution_count": null,
      "metadata": {
        "id": "3exftL1uQteL"
      },
      "outputs": [],
      "source": [
        "def record_trained_video(video_file, num_steps):\n",
        "    video = VideoRecorder(env, video_file)\n",
        "\n",
        "    # returns an initial observation\n",
        "    state, info = env.reset()\n",
        "    env.render()\n",
        "    video.capture_frame()\n",
        "\n",
        "    for i in range(num_steps):\n",
        "        action = agent.eval_state(state)\n",
        "        state, reward, terminated, truncated, info = env.step(action)\n",
        "        is_terminal = terminated or truncated\n",
        "\n",
        "        env.render()\n",
        "        video.capture_frame()\n",
        "\n",
        "        if(is_terminal):\n",
        "            print(\"step\", i+1, \":\", actions[action], \",\", state, \",\", reward, \",\", terminated, \",\", truncated, \",\", info)\n",
        "            break\n",
        "\n",
        "    video.close()"
      ]
    },
    {
      "cell_type": "markdown",
      "metadata": {
        "id": "J5obxy4sknoE"
      },
      "source": [
        "## Playing and Training"
      ]
    },
    {
      "cell_type": "code",
      "execution_count": null,
      "metadata": {
        "colab": {
          "base_uri": "https://localhost:8080/"
        },
        "id": "XHTrrjXukqTs",
        "outputId": "565fdead-382a-4e6a-9d9b-e176be84974c"
      },
      "outputs": [
        {
          "output_type": "stream",
          "name": "stderr",
          "text": [
            " 13%|█▎        | 53/400 [00:02<00:20, 17.01it/s]"
          ]
        },
        {
          "output_type": "stream",
          "name": "stdout",
          "text": [
            "step: 1052, episode: 50, training reward mean: 21.04, test reward mean: 9.52, random move probability: 0.8875000000000013\n"
          ]
        },
        {
          "output_type": "stream",
          "name": "stderr",
          "text": [
            " 26%|██▌       | 103/400 [00:04<00:11, 25.52it/s]"
          ]
        },
        {
          "output_type": "stream",
          "name": "stdout",
          "text": [
            "step: 1989, episode: 100, training reward mean: 18.74, test reward mean: 9.28, random move probability: 0.7750000000000026\n"
          ]
        },
        {
          "output_type": "stream",
          "name": "stderr",
          "text": [
            " 38%|███▊      | 151/400 [00:08<00:48,  5.13it/s]"
          ]
        },
        {
          "output_type": "stream",
          "name": "stdout",
          "text": [
            "step: 3788, episode: 150, training reward mean: 35.98, test reward mean: 120.92, random move probability: 0.6625000000000039\n"
          ]
        },
        {
          "output_type": "stream",
          "name": "stderr",
          "text": [
            " 50%|█████     | 202/400 [00:15<00:56,  3.48it/s]"
          ]
        },
        {
          "output_type": "stream",
          "name": "stdout",
          "text": [
            "step: 6205, episode: 200, training reward mean: 48.34, test reward mean: 154.44, random move probability: 0.5500000000000052\n"
          ]
        },
        {
          "output_type": "stream",
          "name": "stderr",
          "text": [
            " 62%|██████▎   | 250/400 [00:23<01:01,  2.45it/s]"
          ]
        },
        {
          "output_type": "stream",
          "name": "stdout",
          "text": [
            "step: 9615, episode: 250, training reward mean: 68.2, test reward mean: 116.92, random move probability: 0.43750000000000644\n"
          ]
        },
        {
          "output_type": "stream",
          "name": "stderr",
          "text": [
            " 75%|███████▌  | 300/400 [00:53<03:02,  1.83s/it]"
          ]
        },
        {
          "output_type": "stream",
          "name": "stdout",
          "text": [
            "step: 21286, episode: 300, training reward mean: 233.42, test reward mean: 474.92, random move probability: 0.3250000000000077\n"
          ]
        },
        {
          "output_type": "stream",
          "name": "stderr",
          "text": [
            " 88%|████████▊ | 350/400 [01:23<01:13,  1.46s/it]"
          ]
        },
        {
          "output_type": "stream",
          "name": "stdout",
          "text": [
            "step: 33658, episode: 350, training reward mean: 247.44, test reward mean: 397.48, random move probability: 0.21250000000000854\n"
          ]
        },
        {
          "output_type": "stream",
          "name": "stderr",
          "text": [
            "100%|██████████| 400/400 [02:07<00:00,  3.14it/s]"
          ]
        },
        {
          "output_type": "stream",
          "name": "stdout",
          "text": [
            "step: 51724, episode: 400, training reward mean: 361.32, test reward mean: 434.16, random move probability: 0.10000000000000844\n"
          ]
        },
        {
          "output_type": "stream",
          "name": "stderr",
          "text": [
            "\n",
            "/usr/local/lib/python3.10/dist-packages/gym/wrappers/monitoring/video_recorder.py:101: DeprecationWarning: \u001b[33mWARN: <class 'gym.wrappers.monitoring.video_recorder.VideoRecorder'> is marked as deprecated and will be removed in the future.\u001b[0m\n",
            "  logger.deprecation(\n"
          ]
        },
        {
          "output_type": "stream",
          "name": "stdout",
          "text": [
            "step 500 : push cart to the right , [-1.3883151   0.01603339  0.00695049 -0.25798175] , 1.0 , False , True , {}\n"
          ]
        }
      ],
      "source": [
        "from tqdm import tqdm\n",
        "#Create lists to contain total rewards, steps and accurracy per episode\n",
        "accuracies = []\n",
        "mean_rewards = []\n",
        "rewards = []\n",
        "steps = []\n",
        "\n",
        "for episode_count in tqdm(range(nb_max_episodes)):\n",
        "    state, info = env.reset()\n",
        "    is_terminal = False\n",
        "    total_reward = 0\n",
        "    episode_step = 0\n",
        "\n",
        "    # The Q-Network training\n",
        "    while not is_terminal:\n",
        "        episode_step += 1\n",
        "\n",
        "        # Choose an action by greedily (with epsilon chance of random action) from the Q-Network\n",
        "        action = agent.choose_action(state)\n",
        "\n",
        "        # Play best or random move and get new state and reward from environment\n",
        "        next_state, reward, terminated, truncated, info = env.step(action)\n",
        "        is_terminal = terminated or truncated\n",
        "\n",
        "        # Store experience\n",
        "        agent.remember(state, action, reward, next_state, is_terminal)\n",
        "\n",
        "        # Train neural network based on ReplayBuffer\n",
        "        agent.update()\n",
        "\n",
        "        # update the current observation\n",
        "        state = next_state\n",
        "        total_steps += 1\n",
        "        total_reward += reward\n",
        "\n",
        "    agent.decay_epsilon()\n",
        "\n",
        "    mean_rewards.append(total_reward)\n",
        "    if (episode_count+1) % test_freq == 0:\n",
        "        accur = test_accurracy(env.spec.max_episode_steps, 25)\n",
        "        accuracies.append(accur)\n",
        "\n",
        "        print('step: %s, episode: %s, training reward mean: %s, test reward mean: %s, random move probability: %s' % (total_steps, episode_count+1, sum(mean_rewards)/test_freq, accur, agent.epsilon))\n",
        "        mean_rewards.clear()\n",
        "\n",
        "    rewards.append(total_reward)\n",
        "    steps.append(episode_step)\n",
        "\n",
        "after_training = \"after_training.mp4\"\n",
        "record_trained_video(after_training, env.spec.max_episode_steps)\n",
        "env.close()"
      ]
    },
    {
      "cell_type": "code",
      "execution_count": null,
      "metadata": {
        "colab": {
          "base_uri": "https://localhost:8080/",
          "height": 288
        },
        "id": "O5j_z1p4TnRs",
        "outputId": "24edde5b-97d1-4a45-c903-4fed75abd476"
      },
      "outputs": [
        {
          "output_type": "execute_result",
          "data": {
            "text/plain": [
              "<IPython.core.display.HTML object>"
            ],
            "text/html": [
              "<video width=400 controls><source src=\"data:video/mp4;base64,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\" type=\"video/mp4\"></video>"
            ]
          },
          "metadata": {},
          "execution_count": 21
        }
      ],
      "source": [
        "# You should get a video similar to the one below.\n",
        "html = render_mp4(after_training)\n",
        "HTML(html)"
      ]
    },
    {
      "cell_type": "markdown",
      "metadata": {
        "id": "dQkxkgFETvu9"
      },
      "source": [
        "### Metrics"
      ]
    },
    {
      "cell_type": "code",
      "execution_count": null,
      "metadata": {
        "colab": {
          "base_uri": "https://localhost:8080/",
          "height": 507
        },
        "id": "ZlmBrxH9TvNQ",
        "outputId": "48f3c5e2-f5ad-4056-8da3-224edf102c35"
      },
      "outputs": [
        {
          "output_type": "display_data",
          "data": {
            "text/plain": [
              "<Figure size 1800x500 with 4 Axes>"
            ],
            "image/png": "[encoded data removed]"
          },
          "metadata": {}
        }
      ],
      "source": [
        "rolling_length = 100\n",
        "fig, axs = plt.subplots(ncols=4, figsize=(18, 5))\n",
        "axs[0].set_title(\"Training Reward\")\n",
        "axs[0].set_xlabel('episode')\n",
        "axs[0].set_ylabel('reward')\n",
        "axs[0].bar(range(len(rewards)), rewards)\n",
        "\n",
        "axs[1].set_title(\"Test Reward\")\n",
        "axs[1].set_xlabel('episode (x 25)')\n",
        "axs[1].set_ylabel('accuracy')\n",
        "axs[1].plot(range(len(accuracies)), accuracies)\n",
        "\n",
        "axs[2].set_title(\"Episode Length\")\n",
        "axs[2].set_xlabel('episode')\n",
        "axs[2].set_ylabel('step')\n",
        "steps_moving_average = np.convolve(np.array(steps), np.ones(rolling_length), mode=\"same\") / rolling_length\n",
        "axs[2].plot(range(len(steps_moving_average)), steps_moving_average)\n",
        "\n",
        "axs[3].set_title(\"Training Error\")\n",
        "axs[3].set_xlabel('step')\n",
        "axs[3].set_ylabel('error')\n",
        "training_error_moving_average = np.convolve(np.array(agent.training_error), np.ones(rolling_length), mode=\"same\") / rolling_length\n",
        "axs[3].plot(range(len(training_error_moving_average)), training_error_moving_average)\n",
        "\n",
        "plt.tight_layout()\n",
        "plt.show()"
      ]
    }
  ],
  "metadata": {
    "accelerator": "GPU",
    "colab": {
      "provenance": [],
      "include_colab_link": true
    },
    "gpuClass": "standard",
    "kernelspec": {
      "display_name": "Python 3",
      "name": "python3"
    },
    "language_info": {
      "name": "python"
    }
  },
  "nbformat": 4,
  "nbformat_minor": 0
}